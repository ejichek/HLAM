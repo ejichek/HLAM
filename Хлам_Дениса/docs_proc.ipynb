{
 "cells": [
  {
   "cell_type": "code",
   "execution_count": 213,
   "metadata": {},
   "outputs": [],
   "source": [
    "import PyPDF2 \n",
    "import textract\n",
    "from nltk.tokenize import word_tokenize\n",
    "from nltk.corpus import stopwords\n",
    "from pdf2image import convert_from_path\n",
    "import os\n",
    "import pytesseract\n",
    "from PIL import Image\n",
    "import shutil\n",
    "import cv2\n",
    "import decimal\n",
    "from zipfile import ZipFile\n",
    "import glob\n",
    "import tabula"
   ]
  },
  {
   "cell_type": "code",
   "execution_count": 16,
   "metadata": {},
   "outputs": [],
   "source": [
    "zippath = '/Users/deniszagorodnev/Desktop/260.zip'"
   ]
  },
  {
   "cell_type": "code",
   "execution_count": null,
   "metadata": {},
   "outputs": [],
   "source": []
  },
  {
   "cell_type": "code",
   "execution_count": 113,
   "metadata": {},
   "outputs": [],
   "source": [
    "#распаковка файлов из скаченного архива\n",
    "\n",
    "def unzipper(zippath, cond = False):\n",
    "    \n",
    "    dirpath = zippath[:-4] + '_package'\n",
    "    \n",
    "    if os.path.exists(dirpath) and os.path.isdir(dirpath):\n",
    "        shutil.rmtree(dirpath)\n",
    "        \n",
    "    os.mkdir(dirpath)\n",
    "\n",
    "    with ZipFile(zippath, 'r') as zipObj:\n",
    "        \n",
    "        if cond:        \n",
    "            listOfFileNames = zipObj.namelist()\n",
    "            for fileName in listOfFileNames:\n",
    "                if fileName.endswith('.csv'):\n",
    "                    zipObj.extract(fileName, 'temp_csv')\n",
    "        else:\n",
    "            zipObj.extractall(path = dirpath)"
   ]
  },
  {
   "cell_type": "code",
   "execution_count": 127,
   "metadata": {},
   "outputs": [],
   "source": [
    "#unzipper(zippath)"
   ]
  },
  {
   "cell_type": "code",
   "execution_count": null,
   "metadata": {},
   "outputs": [],
   "source": []
  },
  {
   "cell_type": "code",
   "execution_count": null,
   "metadata": {},
   "outputs": [],
   "source": []
  },
  {
   "cell_type": "code",
   "execution_count": 121,
   "metadata": {},
   "outputs": [],
   "source": [
    "#выгрузка картинок из файла с аудиторским заключением (используем для самого свежего)\n",
    "\n",
    "def audit_recog(fname):\n",
    "    \n",
    "    dirpath = '/Users/deniszagorodnev/Desktop/260_audit_imgs/'\n",
    "\n",
    "    if os.path.exists(dirpath) and os.path.isdir(dirpath):\n",
    "        shutil.rmtree(dirpath)\n",
    "\n",
    "    os.mkdir(dirpath)\n",
    "    \n",
    "    \n",
    "        \n",
    "    pdfFileObj = open(fname,'rb')\n",
    "\n",
    "    pdfReader = PyPDF2.PdfFileReader(pdfFileObj)\n",
    "\n",
    "    num_pages = pdfReader.numPages\n",
    "\n",
    "    pages = convert_from_path(fname, 100)\n",
    "\n",
    "    for i in range(len(pages)):\n",
    "            page = pages[i]\n",
    "            pname = dirpath + str(i) + '.jpg'\n",
    "            page.save(pname, 'JPEG')"
   ]
  },
  {
   "cell_type": "code",
   "execution_count": 218,
   "metadata": {},
   "outputs": [],
   "source": [
    "#обработка всех документов из распакованного архива \n",
    "\n",
    "def docs_recog(package_dir):\n",
    "\n",
    "    \n",
    "\n",
    "#обработка файлов с проектными декларациями\n",
    "    print(glob.glob(package_dir + '/*_pd*.pdf'))"
   ]
  },
  {
   "cell_type": "code",
   "execution_count": 219,
   "metadata": {},
   "outputs": [
    {
     "name": "stdout",
     "output_type": "stream",
     "text": [
      "['/Users/deniszagorodnev/Desktop/dev260_pd77-000555_01.pdf']\n"
     ]
    }
   ],
   "source": [
    "package_dir = '/Users/deniszagorodnev/Desktop'\n",
    "\n",
    "docs_recog(package_dir)"
   ]
  },
  {
   "cell_type": "code",
   "execution_count": 208,
   "metadata": {},
   "outputs": [],
   "source": [
    "declar = '/Users/deniszagorodnev/Desktop/260_package/dev260_pd77-000554_01.pdf'\n",
    "output = \"/Users/deniszagorodnev/Desktop/declar.csv\""
   ]
  },
  {
   "cell_type": "code",
   "execution_count": 209,
   "metadata": {},
   "outputs": [
    {
     "ename": "AttributeError",
     "evalue": "module 'tabula' has no attribute 'read_pdf'",
     "output_type": "error",
     "traceback": [
      "\u001b[0;31m---------------------------------------------------------------------------\u001b[0m",
      "\u001b[0;31mAttributeError\u001b[0m                            Traceback (most recent call last)",
      "\u001b[0;32m<ipython-input-209-24f6f5577442>\u001b[0m in \u001b[0;36m<module>\u001b[0;34m\u001b[0m\n\u001b[0;32m----> 1\u001b[0;31m \u001b[0mdf\u001b[0m \u001b[0;34m=\u001b[0m \u001b[0mtabula\u001b[0m\u001b[0;34m.\u001b[0m\u001b[0mread_pdf\u001b[0m\u001b[0;34m(\u001b[0m\u001b[0mdeclar\u001b[0m\u001b[0;34m,\u001b[0m \u001b[0mpages\u001b[0m \u001b[0;34m=\u001b[0m \u001b[0;34m'all'\u001b[0m\u001b[0;34m,\u001b[0m \u001b[0mlattice\u001b[0m \u001b[0;34m=\u001b[0m \u001b[0;32mTrue\u001b[0m\u001b[0;34m)\u001b[0m\u001b[0;34m[\u001b[0m\u001b[0;36m1\u001b[0m\u001b[0;34m]\u001b[0m\u001b[0;34m\u001b[0m\u001b[0;34m\u001b[0m\u001b[0m\n\u001b[0m",
      "\u001b[0;31mAttributeError\u001b[0m: module 'tabula' has no attribute 'read_pdf'"
     ]
    }
   ],
   "source": [
    "df = tabula.read_pdf(declar, pages = 'all', lattice = True)[1]"
   ]
  },
  {
   "cell_type": "code",
   "execution_count": 159,
   "metadata": {},
   "outputs": [
    {
     "ename": "AttributeError",
     "evalue": "module 'tabula' has no attribute 'read_pdf_table'",
     "output_type": "error",
     "traceback": [
      "\u001b[0;31m---------------------------------------------------------------------------\u001b[0m",
      "\u001b[0;31mAttributeError\u001b[0m                            Traceback (most recent call last)",
      "\u001b[0;32m<ipython-input-159-3557e5942744>\u001b[0m in \u001b[0;36m<module>\u001b[0;34m\u001b[0m\n\u001b[0;32m----> 1\u001b[0;31m \u001b[0mdf\u001b[0m \u001b[0;34m=\u001b[0m \u001b[0mtabula\u001b[0m\u001b[0;34m.\u001b[0m\u001b[0mread_pdf_table\u001b[0m\u001b[0;34m(\u001b[0m\u001b[0mdeclar\u001b[0m\u001b[0;34m,\u001b[0m \u001b[0mpages\u001b[0m\u001b[0;34m=\u001b[0m\u001b[0;34m'all'\u001b[0m\u001b[0;34m)\u001b[0m\u001b[0;34m\u001b[0m\u001b[0;34m\u001b[0m\u001b[0m\n\u001b[0m\u001b[1;32m      2\u001b[0m \u001b[0mtabula\u001b[0m\u001b[0;34m.\u001b[0m\u001b[0mconvert_into\u001b[0m\u001b[0;34m(\u001b[0m\u001b[0mdf\u001b[0m\u001b[0;34m,\u001b[0m \u001b[0moutput\u001b[0m \u001b[0;34m,\u001b[0m \u001b[0moutput_format\u001b[0m\u001b[0;34m=\u001b[0m\u001b[0;34m\"csv\"\u001b[0m\u001b[0;34m,\u001b[0m\u001b[0mpages\u001b[0m\u001b[0;34m=\u001b[0m\u001b[0;34m'all'\u001b[0m\u001b[0;34m,\u001b[0m \u001b[0mstream\u001b[0m\u001b[0;34m=\u001b[0m\u001b[0;32mTrue\u001b[0m\u001b[0;34m)\u001b[0m\u001b[0;34m\u001b[0m\u001b[0;34m\u001b[0m\u001b[0m\n",
      "\u001b[0;31mAttributeError\u001b[0m: module 'tabula' has no attribute 'read_pdf_table'"
     ]
    }
   ],
   "source": [
    "\n",
    "df = tabula.read_pdf_table(declar, pages='all')\n",
    "tabula.convert_into(df, output , output_format=\"csv\",pages='all', stream=True)"
   ]
  },
  {
   "cell_type": "code",
   "execution_count": null,
   "metadata": {},
   "outputs": [],
   "source": []
  },
  {
   "cell_type": "code",
   "execution_count": 158,
   "metadata": {},
   "outputs": [],
   "source": [
    "#обработка текста с всех картинок в файле\n",
    "\n",
    "def ocr_core(folder):\n",
    "    \n",
    "    dirpath = folder + '_text_recog'\n",
    "    \n",
    "    if os.path.exists(dirpath) and os.path.isdir(dirpath):\n",
    "        shutil.rmtree(dirpath)\n",
    "        \n",
    "    os.mkdir(dirpath)\n",
    "    \n",
    "    for elem in os.listdir(folder):\n",
    "        if elem.lower().endswith(('.png', '.jpg', '.jpeg')):\n",
    "            text = pytesseract.image_to_string(Image.open(folder + '/' + elem), lang=\"rus\") \n",
    "            text_file = open(dirpath + '/' + str(elem[:-4]), \"w\")\n",
    "            text_file.write(text)\n",
    "            text_file.close()\n",
    "    \n",
    "\n"
   ]
  },
  {
   "cell_type": "code",
   "execution_count": null,
   "metadata": {},
   "outputs": [],
   "source": []
  },
  {
   "cell_type": "code",
   "execution_count": 204,
   "metadata": {},
   "outputs": [],
   "source": [
    "declar = '/Users/deniszagorodnev/Desktop/260_package/dev260_fin_calc2017-4qr_01.pdf'\n",
    "\n",
    "pdfFileObj = open(declar,'rb')\n",
    "\n",
    "pdfReader = PyPDF2.PdfFileReader(pdfFileObj)\n",
    "\n",
    "num_pages = pdfReader.numPages\n",
    "count = 0\n",
    "text = \"\"\n",
    "\n",
    "while count < num_pages:\n",
    "    pageObj = pdfReader.getPage(count)\n",
    "    count +=1\n",
    "    text += pageObj.extractText()\n",
    "\n",
    "if text != \"\":\n",
    "    text = text\n",
    "else:\n",
    "    text = textract.process(declar, method='tesseract', language='rus')"
   ]
  },
  {
   "cell_type": "code",
   "execution_count": 205,
   "metadata": {},
   "outputs": [],
   "source": [
    "text_file = open('/Users/deniszagorodnev/Desktop/res', \"wb\")\n",
    "text_file.write(text)\n",
    "text_file.close()"
   ]
  },
  {
   "cell_type": "code",
   "execution_count": null,
   "metadata": {},
   "outputs": [],
   "source": []
  },
  {
   "cell_type": "code",
   "execution_count": 126,
   "metadata": {},
   "outputs": [],
   "source": [
    "#декодирование текста из штрихкода аудиторского заключения\n",
    "def decoder(string):\n",
    "\n",
    "    res = ''.join(chr(ord('а') + ord(sym) - ord('\\\\')) for sym in string)\n",
    "    space = 'ϴ'\n",
    "    \n",
    "    for i in range(len(res)):\n",
    "        if res[i] == space:\n",
    "            res = res[:i] + ' ' + res[i+1:] \n",
    "        elif res[i] == 'ё':\n",
    "            res = res[:i] + 'д' + res[i+1:] \n",
    "    return res       \n",
    "        "
   ]
  },
  {
   "cell_type": "code",
   "execution_count": null,
   "metadata": {},
   "outputs": [],
   "source": []
  },
  {
   "cell_type": "code",
   "execution_count": null,
   "metadata": {},
   "outputs": [],
   "source": []
  },
  {
   "cell_type": "code",
   "execution_count": null,
   "metadata": {},
   "outputs": [],
   "source": []
  }
 ],
 "metadata": {
  "kernelspec": {
   "display_name": "Python 3",
   "language": "python",
   "name": "python3"
  },
  "language_info": {
   "codemirror_mode": {
    "name": "ipython",
    "version": 3
   },
   "file_extension": ".py",
   "mimetype": "text/x-python",
   "name": "python",
   "nbconvert_exporter": "python",
   "pygments_lexer": "ipython3",
   "version": "3.8.8"
  }
 },
 "nbformat": 4,
 "nbformat_minor": 4
}
