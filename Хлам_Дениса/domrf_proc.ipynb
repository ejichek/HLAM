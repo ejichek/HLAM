{
 "cells": [
  {
   "cell_type": "code",
   "execution_count": 1,
   "metadata": {},
   "outputs": [],
   "source": [
    "import requests as req\n",
    "import json\n",
    "import urllib.parse\n",
    "import pandas as pd\n",
    "import io\n",
    "import ast\n",
    "from bs4 import BeautifulSoup"
   ]
  },
  {
   "cell_type": "code",
   "execution_count": null,
   "metadata": {},
   "outputs": [],
   "source": [
    "\n"
   ]
  },
  {
   "cell_type": "code",
   "execution_count": 2,
   "metadata": {},
   "outputs": [],
   "source": [
    "def entitify(text):\n",
    "    return urllib.parse.quote(text)"
   ]
  },
  {
   "cell_type": "code",
   "execution_count": 3,
   "metadata": {},
   "outputs": [],
   "source": [
    "def fwrite(response, fname):\n",
    "    file = open(fname, \"w\")\n",
    "\n",
    "    file.write(response.text)\n",
    "\n",
    "    file.close()"
   ]
  },
  {
   "cell_type": "code",
   "execution_count": 4,
   "metadata": {},
   "outputs": [],
   "source": [
    "def demonstrate_json(res):\n",
    "    print(json.dumps(res, indent=4, sort_keys=True, ensure_ascii = False))"
   ]
  },
  {
   "cell_type": "code",
   "execution_count": 5,
   "metadata": {},
   "outputs": [],
   "source": [
    "def get_client_list(q):\n",
    "    \n",
    "    headers = {'Accept': 'application/json, text/plain, */*',\n",
    "              'Accept-Language': 'ru-RU,ru;q=0.9,en-US;q=0.8,en;q=0.7' \n",
    "               }\n",
    "    \n",
    "    \n",
    "    url = 'https://xn--80az8a.xn--d1aqf.xn--p1ai/%D1%81%D0%B5%D1%80%D0%B2%D0%B8%D1%81%D1%8B/api/search/interactive/composite?searchValue=' \n",
    "\n",
    "    q = entitify(q)\n",
    "    \n",
    "    url = url + q\n",
    "    \n",
    "    r = req.get(url, headers=headers)\n",
    "    \n",
    "    res = r.json()\n",
    "    \n",
    "    return res\n",
    "    \n",
    "\n"
   ]
  },
  {
   "cell_type": "code",
   "execution_count": 6,
   "metadata": {},
   "outputs": [],
   "source": [
    "#страница клиента по списку клиентов, типу клиента и названию\n",
    "\n",
    "def get_client_page(res, TITLE, NAME):\n",
    "    \n",
    "    url = 'https://xn--80az8a.xn--d1aqf.xn--p1ai/%D1%81%D0%B5%D1%80%D0%B2%D0%B8%D1%81%D1%8B/%D0%B5%D0%B4%D0%B8%D0%BD%D1%8B%D0%B9-%D1%80%D0%B5%D0%B5%D1%81%D1%82%D1%80-%D0%B7%D0%B0%D1%81%D1%82%D1%80%D0%BE%D0%B9%D1%89%D0%B8%D0%BA%D0%BE%D0%B2/'\n",
    "\n",
    "    headers = {'Accept': 'application/json, text/plain, */*',\n",
    "              'Accept-Language': 'ru-RU,ru;q=0.9,en-US;q=0.8,en;q=0.7' \n",
    "               }\n",
    "    \n",
    "    header2 = 'title'\n",
    "    \n",
    "    header3 = 'searchValue'\n",
    "\n",
    "    data = json.dumps(res, indent=4, sort_keys=True)\n",
    "\n",
    "    df = pd.DataFrame(ast.literal_eval(data)['data'])\n",
    "    \n",
    "    \n",
    "    row = df[(df[header2] == TITLE) & (df[header3] == NAME)]\n",
    "    \n",
    "    cardId = row['cardId'].iloc[0]\n",
    "    \n",
    "    title = entitify(TITLE.lower())\n",
    "\n",
    "    url = url + title + '/' + cardId\n",
    "    \n",
    "    r = req.get(url, headers=headers)\n",
    "     \n",
    "    return r.text"
   ]
  },
  {
   "cell_type": "code",
   "execution_count": 7,
   "metadata": {},
   "outputs": [],
   "source": [
    "def get_doquments_archive(cardId):\n",
    "    \n",
    "    url = 'https://xn--80az8a.xn--d1aqf.xn--p1ai/%D1%81%D0%B5%D1%80%D0%B2%D0%B8%D1%81%D1%8B/api/erz/deverz/'+cardId+'/document/download?tab=projectDeclarations&tab=developerReport'\n",
    "\n",
    "    with req.get(url, stream=True) as r:\n",
    "        r.raise_for_status()\n",
    "        with open(cardId + '.zip', 'wb') as f:\n",
    "            for chunk in r.iter_content(chunk_size=8192): \n",
    "                f.write(chunk)"
   ]
  },
  {
   "cell_type": "code",
   "execution_count": 8,
   "metadata": {},
   "outputs": [],
   "source": [
    "def get_proj_list(search, cardId):\n",
    "    \n",
    "    headers = {'Accept': 'application/json, text/plain, */*',\n",
    "              'Accept-Language': 'ru-RU,ru;q=0.9,en-US;q=0.8,en;q=0.7' \n",
    "               }\n",
    "    \n",
    "    search = entitify(search)\n",
    "    \n",
    "    url = 'https://xn--80az8a.xn--d1aqf.xn--p1ai/%D1%81%D0%B5%D1%80%D0%B2%D0%B8%D1%81%D1%8B/%D0%BA%D0%B0%D1%82%D0%B0%D0%BB%D0%BE%D0%B3-%D0%BD%D0%BE%D0%B2%D0%BE%D1%81%D1%82%D1%80%D0%BE%D0%B5%D0%BA/%D1%81%D0%BF%D0%B8%D1%81%D0%BE%D0%BA-%D0%BE%D0%B1%D1%8A%D0%B5%D0%BA%D1%82%D0%BE%D0%B2/%D1%81%D0%BF%D0%B8%D1%81%D0%BE%D0%BA?search='\n",
    "    url1 = '&devId='\n",
    "    url2 = '&status=buildingFlag'\n",
    "\n",
    "    r = req.get(url + search + url1 + cardId + url2, headers=headers).text\n",
    "    \n",
    "    parsed_html = BeautifulSoup(r, 'html.parser')\n",
    "    data = json.loads(parsed_html.find('script', id=\"__NEXT_DATA__\", type='application/json').text)\n",
    "    return data\n",
    "    \n",
    "    #res = r.json()\n",
    "    #return res\n",
    "    \n",
    "    #demonstrate_json(res)\n",
    "    \n",
    "    \n",
    "    \n",
    "    "
   ]
  },
  {
   "cell_type": "code",
   "execution_count": 9,
   "metadata": {},
   "outputs": [],
   "source": [
    "def parse_client_page(client_page):\n",
    "    res = client_page\n",
    "    parsed_html = BeautifulSoup(res, 'html.parser')\n",
    "\n",
    "    data = json.loads(parsed_html.find('script', id=\"__NEXT_DATA__\", type='application/json').text)\n",
    "\n",
    "\n",
    "    banks = data[\"props\"]['initialProps'][\"pageProps\"]['banks']\n",
    "\n",
    "    beneficiaries = data[\"props\"]['initialProps'][\"pageProps\"]['beneficiaries']\n",
    "\n",
    "    documents = data[\"props\"]['initialProps'][\"pageProps\"][\"documents\"]\n",
    "\n",
    "    reports = data[\"props\"]['initialProps'][\"pageProps\"][\"documents\"]['report']\n",
    "\n",
    "    reports = data[\"props\"]['initialProps'][\"pageProps\"][\"documents\"]['report']\n",
    "\n",
    "    rpd = data[\"props\"]['initialProps'][\"pageProps\"][\"documents\"]['rpd']"
   ]
  },
  {
   "cell_type": "code",
   "execution_count": 10,
   "metadata": {},
   "outputs": [
    {
     "ename": "SyntaxError",
     "evalue": "invalid syntax (<ipython-input-10-52e1d84f08be>, line 1)",
     "output_type": "error",
     "traceback": [
      "\u001b[0;36m  File \u001b[0;32m\"<ipython-input-10-52e1d84f08be>\"\u001b[0;36m, line \u001b[0;32m1\u001b[0m\n\u001b[0;31m    span class=\"_227lI\"\u001b[0m\n\u001b[0m         ^\u001b[0m\n\u001b[0;31mSyntaxError\u001b[0m\u001b[0;31m:\u001b[0m invalid syntax\n"
     ]
    }
   ],
   "source": [
    "span class=\"_227lI\"\n",
    "\n",
    "li class=\"_2ag2R\"\n",
    "\n",
    "ul class=\"_3U-mA _23Irb\"\n",
    "\n"
   ]
  },
  {
   "cell_type": "code",
   "execution_count": 16,
   "metadata": {},
   "outputs": [],
   "source": [
    "#res = get_client_list('строй тэк')\n",
    "#res\n",
    "#res = get_client_page(res, 'Застройщик', 'СЗ МИЦ-МИЦ')\n",
    "\n",
    "#parse_client_page(res)\n",
    "\n"
   ]
  },
  {
   "cell_type": "code",
   "execution_count": 29,
   "metadata": {},
   "outputs": [],
   "source": [
    "list_of_inns = []\n",
    "with open('list_of_inns.txt', 'r') as f:\n",
    "    list_of_inns.append(f.read().split('\\n\\n'))\n",
    "list_of_inns = list_of_inns[0]"
   ]
  },
  {
   "cell_type": "code",
   "execution_count": 31,
   "metadata": {},
   "outputs": [],
   "source": [
    "def get_client_page_by_inn(inn):\n",
    "    \n",
    "    cardId = get_client_list(inn)['data'][0]['cardId']\n",
    "    \n",
    "    TITLE = 'застройщик'\n",
    "    \n",
    "    url = 'https://xn--80az8a.xn--d1aqf.xn--p1ai/%D1%81%D0%B5%D1%80%D0%B2%D0%B8%D1%81%D1%8B/%D0%B5%D0%B4%D0%B8%D0%BD%D1%8B%D0%B9-%D1%80%D0%B5%D0%B5%D1%81%D1%82%D1%80-%D0%B7%D0%B0%D1%81%D1%82%D1%80%D0%BE%D0%B9%D1%89%D0%B8%D0%BA%D0%BE%D0%B2/'\n",
    "\n",
    "    headers = {'Accept': 'application/json, text/plain, */*',\n",
    "              'Accept-Language': 'ru-RU,ru;q=0.9,en-US;q=0.8,en;q=0.7' \n",
    "               }\n",
    "    \n",
    "    title = entitify(TITLE.lower())\n",
    "    \n",
    "    url = url + title + '/' + cardId\n",
    "    \n",
    "    r = req.get(url, headers=headers)\n",
    "     \n",
    "    return r.text\n",
    "    \n",
    "                    \n",
    "\n",
    "\n",
    "    "
   ]
  },
  {
   "cell_type": "code",
   "execution_count": 32,
   "metadata": {},
   "outputs": [
    {
     "ename": "IndexError",
     "evalue": "list index out of range",
     "output_type": "error",
     "traceback": [
      "\u001b[0;31m---------------------------------------------------------------------------\u001b[0m",
      "\u001b[0;31mIndexError\u001b[0m                                Traceback (most recent call last)",
      "\u001b[0;32m<ipython-input-32-d42b9d308ccb>\u001b[0m in \u001b[0;36m<module>\u001b[0;34m\u001b[0m\n\u001b[1;32m      1\u001b[0m \u001b[0;32mfor\u001b[0m \u001b[0minn\u001b[0m \u001b[0;32min\u001b[0m \u001b[0mlist_of_inns\u001b[0m\u001b[0;34m:\u001b[0m\u001b[0;34m\u001b[0m\u001b[0;34m\u001b[0m\u001b[0m\n\u001b[0;32m----> 2\u001b[0;31m     \u001b[0mget_client_page_by_inn\u001b[0m\u001b[0;34m(\u001b[0m\u001b[0minn\u001b[0m\u001b[0;34m)\u001b[0m\u001b[0;34m\u001b[0m\u001b[0;34m\u001b[0m\u001b[0m\n\u001b[0m",
      "\u001b[0;32m<ipython-input-31-2cf524766699>\u001b[0m in \u001b[0;36mget_client_page_by_inn\u001b[0;34m(inn)\u001b[0m\n\u001b[1;32m      1\u001b[0m \u001b[0;32mdef\u001b[0m \u001b[0mget_client_page_by_inn\u001b[0m\u001b[0;34m(\u001b[0m\u001b[0minn\u001b[0m\u001b[0;34m)\u001b[0m\u001b[0;34m:\u001b[0m\u001b[0;34m\u001b[0m\u001b[0;34m\u001b[0m\u001b[0m\n\u001b[1;32m      2\u001b[0m \u001b[0;34m\u001b[0m\u001b[0m\n\u001b[0;32m----> 3\u001b[0;31m     \u001b[0mcardId\u001b[0m \u001b[0;34m=\u001b[0m \u001b[0mget_client_list\u001b[0m\u001b[0;34m(\u001b[0m\u001b[0minn\u001b[0m\u001b[0;34m)\u001b[0m\u001b[0;34m[\u001b[0m\u001b[0;34m'data'\u001b[0m\u001b[0;34m]\u001b[0m\u001b[0;34m[\u001b[0m\u001b[0;36m0\u001b[0m\u001b[0;34m]\u001b[0m\u001b[0;34m[\u001b[0m\u001b[0;34m'cardId'\u001b[0m\u001b[0;34m]\u001b[0m\u001b[0;34m\u001b[0m\u001b[0;34m\u001b[0m\u001b[0m\n\u001b[0m\u001b[1;32m      4\u001b[0m \u001b[0;34m\u001b[0m\u001b[0m\n\u001b[1;32m      5\u001b[0m     \u001b[0mTITLE\u001b[0m \u001b[0;34m=\u001b[0m \u001b[0;34m'застройщик'\u001b[0m\u001b[0;34m\u001b[0m\u001b[0;34m\u001b[0m\u001b[0m\n",
      "\u001b[0;31mIndexError\u001b[0m: list index out of range"
     ]
    }
   ],
   "source": [
    "for inn in list_of_inns:\n",
    "    get_client_page_by_inn(inn)"
   ]
  },
  {
   "cell_type": "code",
   "execution_count": 33,
   "metadata": {},
   "outputs": [],
   "source": [
    "def get_archives_set(list_of_inns):\n",
    "    \n",
    "    for inn in list_of_inns:\n",
    "        \n",
    "        res = get_client_page_by_inn(inn)\n",
    "        \n",
    "        parse_client_page(res)"
   ]
  },
  {
   "cell_type": "code",
   "execution_count": null,
   "metadata": {},
   "outputs": [],
   "source": []
  },
  {
   "cell_type": "code",
   "execution_count": null,
   "metadata": {},
   "outputs": [],
   "source": []
  },
  {
   "cell_type": "code",
   "execution_count": null,
   "metadata": {},
   "outputs": [],
   "source": []
  },
  {
   "cell_type": "code",
   "execution_count": null,
   "metadata": {},
   "outputs": [],
   "source": []
  },
  {
   "cell_type": "code",
   "execution_count": null,
   "metadata": {},
   "outputs": [],
   "source": []
  },
  {
   "cell_type": "code",
   "execution_count": null,
   "metadata": {},
   "outputs": [],
   "source": []
  },
  {
   "cell_type": "code",
   "execution_count": null,
   "metadata": {},
   "outputs": [],
   "source": []
  }
 ],
 "metadata": {
  "kernelspec": {
   "display_name": "Python 3",
   "language": "python",
   "name": "python3"
  },
  "language_info": {
   "codemirror_mode": {
    "name": "ipython",
    "version": 3
   },
   "file_extension": ".py",
   "mimetype": "text/x-python",
   "name": "python",
   "nbconvert_exporter": "python",
   "pygments_lexer": "ipython3",
   "version": "3.8.8"
  }
 },
 "nbformat": 4,
 "nbformat_minor": 4
}
