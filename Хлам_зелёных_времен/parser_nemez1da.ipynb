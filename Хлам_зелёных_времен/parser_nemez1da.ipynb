{
 "cells": [
  {
   "cell_type": "code",
   "execution_count": 36,
   "metadata": {},
   "outputs": [],
   "source": [
    "import pandas as pd\n",
    "\n",
    "from bs4 import BeautifulSoup\n",
    "import requests\n",
    "\n",
    "import selenium \n",
    "from selenium import webdriver\n",
    "\n",
    "from selenium import webdriver\n",
    "from selenium.webdriver.common.by import By\n",
    "from selenium.webdriver.support.ui import WebDriverWait\n",
    "from selenium.webdriver.support import expected_conditions as EC\n",
    "import time"
   ]
  },
  {
   "cell_type": "code",
   "execution_count": 37,
   "metadata": {},
   "outputs": [],
   "source": [
    "pageSource = None\n",
    "\n",
    "lich_data_big_str = None\n",
    "data_lich_split  = None\n",
    "inf_zip_lists = None\n",
    "\n",
    "FIO = None \n",
    "date_birth = None\n",
    "dolzhnost = None\n",
    "adress_reg = None\n",
    "drfo = None\n",
    "passport = None\n",
    "deaytelnost = None\n",
    "telefon = None\n",
    "\n",
    "FIO_list = []\n",
    "date_birth_list = []\n",
    "dolzhnost_list = []\n",
    "adress_reg_list = []\n",
    "drfo_list = []\n",
    "passport_list = []\n",
    "deaytelnost_list = []\n",
    "telefon_list = []\n"
   ]
  },
  {
   "cell_type": "code",
   "execution_count": 38,
   "metadata": {},
   "outputs": [
    {
     "name": "stderr",
     "output_type": "stream",
     "text": [
      "C:\\ProgramData\\Anaconda3\\lib\\site-packages\\ipykernel_launcher.py:1: DeprecationWarning: executable_path has been deprecated, please pass in a Service object\n",
      "  \"\"\"Entry point for launching an IPython kernel.\n"
     ]
    }
   ],
   "source": [
    "driver = webdriver.Chrome(r'C:\\webdrivers\\chromedriver.exe')\n",
    "URL = 'https://nemez1da.ru/naczistskie-podrazdeleniya/polk-azov/chmyr-aleksej-olegovich-chmir-oleksij-olegovich/'\n",
    "driver.get(URL)\n",
    "driver.maximize_window()"
   ]
  },
  {
   "cell_type": "code",
   "execution_count": 43,
   "metadata": {},
   "outputs": [],
   "source": [
    "for i_123 in range(100): \n",
    "    \n",
    "    pageSource = driver.page_source\n",
    "    soup = BeautifulSoup(pageSource)\n",
    "    \n",
    "    WebDriverWait(driver,100).until(EC.element_to_be_clickable((By.XPATH,'/html/body/div[4]/div/div/div[1]/div/div[1]/div[1]/nav/div/div[1]/a'))).click()\n",
    "    \n",
    "    FIO = soup.find('h1',class_=\"post-title entry-title\").text\n",
    "    FIO_list.append(FIO)\n",
    "\n",
    "    lich_data_big_str = soup.find('div',class_=\"entry-content simple-grid-clearfix\").text\n",
    "\n",
    "    data_lich_split = lich_data_big_str.split('\\n')\n",
    "    data_lich_split = [i1 for i1 in data_lich_split if i1 != '' and i1 !=' ']\n",
    "    for i in data_lich_split:\n",
    "        if 'Категория' in i:\n",
    "            kategori = i [i.find('Категория') + 9: len(i) ]\n",
    "        if 'Дата рождения' in i:\n",
    "            date_birth = i [i.find('Дата рождения') + 13: len(i) ]\n",
    "        if 'Должность' in i:\n",
    "            dolzhnost = i [i.find('Должность') + 9: len(i) ]        \n",
    "        if 'Зарегистрирован по адресу' in i:\n",
    "            adress_reg = i [i.find('Зарегистрирован по адресу') + 25: len(i) ]\n",
    "        if 'ДРФО' in i:\n",
    "            drfo = i [i.find('ДРФО') + 4: len(i) ]\n",
    "        if 'Паспорт' in i:\n",
    "            passport = i [i.find('Паспорт') + 7: len(i) ]\n",
    "        if 'Деятельность' in i:\n",
    "            deaytelnost = i [i.find('Деятельность') + 12: len(i) ]\n",
    "        if 'Телефон' in i:\n",
    "            telefon = i [i.find('Телефон') + 7: len(i) ]\n",
    "\n",
    "    FIO_list.append(FIO)\n",
    "    date_birth_list.append(date_birth)\n",
    "    dolzhnost_list.append(dolzhnost)\n",
    "    adress_reg_list.append(adress_reg)\n",
    "    drfo_list.append(drfo_list)\n",
    "    passport_list.append(passport_list)\n",
    "    deaytelnost_list.append(deaytelnost)\n",
    "    telefon_list.append(telefon)       \n",
    "\n",
    "    FIO = None \n",
    "    date_birth = None\n",
    "    dolzhnost = None\n",
    "    adress_reg = None\n",
    "    drfo = None\n",
    "    passport = None\n",
    "    deaytelnost = None\n",
    "    telefon = None                   "
   ]
  },
  {
   "cell_type": "code",
   "execution_count": 44,
   "metadata": {},
   "outputs": [],
   "source": [
    "inf_zip_lists = list(zip(FIO_list, date_birth_list, dolzhnost_list, adress_reg_list, drfo_list, passport_list, deaytelnost_list, telefon_list))"
   ]
  },
  {
   "cell_type": "code",
   "execution_count": 45,
   "metadata": {},
   "outputs": [],
   "source": [
    "df = pd.DataFrame(inf_zip_lists, columns=['ФИО', 'Дата рождения', 'Должность', 'Адресс_регистрации', 'ДРФО',\n",
    "                                          'Пасспорт', 'Деятельность', 'Телефон'])"
   ]
  },
  {
   "cell_type": "code",
   "execution_count": 46,
   "metadata": {},
   "outputs": [],
   "source": [
    "df.to_csv('nemez1da_2.csv', sep=';', encoding='cp1251')"
   ]
  },
  {
   "cell_type": "code",
   "execution_count": null,
   "metadata": {},
   "outputs": [],
   "source": []
  },
  {
   "cell_type": "code",
   "execution_count": null,
   "metadata": {},
   "outputs": [],
   "source": [
    "try:    \n",
    "    for i_123 in range(100): \n",
    "\n",
    "        pageSource = driver.page_source\n",
    "        soup = BeautifulSoup(pageSource)\n",
    "\n",
    "        WebDriverWait(driver,100).until(EC.element_to_be_clickable((By.XPATH,'/html/body/div[4]/div/div/div[1]/div/div[1]/div[1]/nav/div/div[1]/a'))).click()\n",
    "\n",
    "\n",
    "        FIO = soup.find('h1',class_=\"post-title entry-title\").text\n",
    "        FIO_list.append(FIO)\n",
    "\n",
    "        lich_data_big_str = soup.find('div',class_=\"entry-content simple-grid-clearfix\").text\n",
    "\n",
    "        data_lich_split = lich_data_big_str.split('\\n')\n",
    "        data_lich_split = [i1 for i1 in data_lich_split if i1 != '' and i1 !=' ']\n",
    "        for i in data_lich_split:\n",
    "            if 'Категория' in i:\n",
    "                kategori = i [i.find('Категория') + 9: len(i) ]\n",
    "            if 'Дата рождения' in i:\n",
    "                date_birth = i [i.find('Дата рождения') + 13: len(i) ]\n",
    "            if 'Должность' in i:\n",
    "                dolzhnost = i [i.find('Должность') + 9: len(i) ]        \n",
    "            if 'Зарегистрирован по адресу' in i:\n",
    "                adress_reg = i [i.find('Зарегистрирован по адресу') + 25: len(i) ]\n",
    "            if 'ДРФО' in i:\n",
    "                drfo = i [i.find('ДРФО') + 4: len(i) ]\n",
    "            if 'Паспорт' in i:\n",
    "                passport = i [i.find('Паспорт') + 7: len(i) ]\n",
    "            if 'Деятельность' in i:\n",
    "                deaytelnost = i [i.find('Деятельность') + 12: len(i) ]\n",
    "            if 'Телефон' in i:\n",
    "                telefon = i [i.find('Телефон') + 7: len(i) ]\n",
    "\n",
    "\n",
    "        FIO_list.append(FIO)\n",
    "        date_birth_list.append(date_birth)\n",
    "        dolzhnost_list.append(dolzhnost)\n",
    "        adress_reg_list.append(adress_reg)\n",
    "        drfo_list.append(drfo_list)\n",
    "        passport_list.append(passport_list)\n",
    "        deaytelnost_list.append(deaytelnost)\n",
    "        telefon_list.append(telefon)       \n",
    "\n",
    "        FIO = None \n",
    "        date_birth = None\n",
    "        dolzhnost = None\n",
    "        adress_reg = None\n",
    "        drfo = None\n",
    "        passport = None\n",
    "        deaytelnost = None\n",
    "        telefon = None\n",
    "        \n",
    "except:\n",
    "    inf_zip_lists = list(zip(FIO_list, date_birth_list, dolzhnost_list, adress_reg_list, drfo_list, passport_list, deaytelnost_list, telefon_list))\n",
    "    \n",
    "    df = pd.DataFrame(inf_zip_lists, columns=['ФИО', 'Дата рождения', 'Должность', 'Адресс_регистрации', 'ДРФО',\n",
    "                                          'Пасспорт', 'Деятельность', 'Телефон'])\n",
    "    \n",
    "    df.to_csv('nemez1da_1.csv', sep=';', encoding='cp1251')\n",
    "    "
   ]
  },
  {
   "cell_type": "code",
   "execution_count": null,
   "metadata": {},
   "outputs": [],
   "source": []
  },
  {
   "cell_type": "code",
   "execution_count": 26,
   "metadata": {},
   "outputs": [],
   "source": [
    "a = data_lich_split.remove('')"
   ]
  },
  {
   "cell_type": "code",
   "execution_count": 27,
   "metadata": {},
   "outputs": [
    {
     "name": "stdout",
     "output_type": "stream",
     "text": [
      "None\n"
     ]
    }
   ],
   "source": [
    "print(a)"
   ]
  },
  {
   "cell_type": "code",
   "execution_count": 34,
   "metadata": {},
   "outputs": [],
   "source": [
    "data_lich_split = [i for i in data_lich_split if i != '' and i!=' ']"
   ]
  },
  {
   "cell_type": "code",
   "execution_count": 35,
   "metadata": {},
   "outputs": [
    {
     "data": {
      "text/plain": [
       "['Дата рождения 19.02.1995 г.р.',\n",
       " 'Категория ВО Свобода',\n",
       " 'Зарегистрирован по адресу г.Киев, ул.Закревского, д.57, кв.172',\n",
       " 'ДРФО 3474805581',\n",
       " 'Телефон 380638806663']"
      ]
     },
     "execution_count": 35,
     "metadata": {},
     "output_type": "execute_result"
    }
   ],
   "source": [
    "data_lich_split"
   ]
  },
  {
   "cell_type": "code",
   "execution_count": null,
   "metadata": {},
   "outputs": [],
   "source": []
  }
 ],
 "metadata": {
  "kernelspec": {
   "display_name": "Python 3",
   "language": "python",
   "name": "python3"
  },
  "language_info": {
   "codemirror_mode": {
    "name": "ipython",
    "version": 3
   },
   "file_extension": ".py",
   "mimetype": "text/x-python",
   "name": "python",
   "nbconvert_exporter": "python",
   "pygments_lexer": "ipython3",
   "version": "3.7.3"
  }
 },
 "nbformat": 4,
 "nbformat_minor": 2
}
