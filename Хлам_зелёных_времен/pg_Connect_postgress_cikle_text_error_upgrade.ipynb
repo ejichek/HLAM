{
 "cells": [
  {
   "cell_type": "code",
   "execution_count": null,
   "metadata": {},
   "outputs": [],
   "source": [
    "import pandas as pd\n",
    "\n",
    "import pandasql as pdsql\n",
    "\n",
    "import sqlalchemy\n",
    "import psycopg2\n",
    "\n",
    "import data"
   ]
  },
  {
   "cell_type": "code",
   "execution_count": null,
   "metadata": {},
   "outputs": [],
   "source": [
    "df_runup = pd.read_excel('runup_only_postgres.xlsx')"
   ]
  },
  {
   "cell_type": "code",
   "execution_count": null,
   "metadata": {},
   "outputs": [],
   "source": [
    "df_runup.head(5)"
   ]
  },
  {
   "cell_type": "code",
   "execution_count": null,
   "metadata": {},
   "outputs": [],
   "source": [
    "user_name = 'user'\n",
    "password = 'p'\n",
    "server = df_runup['SERVER_NAME']\n",
    "dns = df_runup['DNS']\n",
    "db =  df_runup['IR_NAME']\n",
    "port = '5433' # PGSE 5433 дефолтный\n",
    "stand_type = df_runup['STAND_TYPE']\n",
    "CI_DB = df_runup['IR_ID']\n",
    "\n",
    "list_cosyachnih_str = []\n",
    "\n",
    "# Это простейший запрос к БД к таблице с метаданными\n",
    "query_all = \"SELECT r.rolname as users, ARRAY(SELECT b.rolname FROM pg_catalog.pg_auth_members m JOIN pg_catalog.pg_roles b ON (m.roleid = b.oid) WHERE m.member = r.oid) as roles FROM pg_catalog.pg_roles r where 1=1 AND r.rolname !~ '^pg_' ORDER BY 1;\"\n",
    "\n",
    "# Формируем наименование текстового файла с косячными строками подключения с пометкой \"STAND_TYPE\" из переменной sheet_name_fact\n",
    "#name_kosyach_txt = sheet_name_fact + '_косячные_строки_подключ.txt'\n",
    "#name_kosyach_xlsx = sheet_name_fact + '_косячные_строки_подключ.xlsx'\n",
    "\n",
    "# Создаем пустой df,куда будем писать косячные строки подключения\n",
    "df_all_final = pd.DataFrame(columns=['STAND_TYPE', 'URL', 'CI_DB', 'db_name', 'as_admin', 'as_admin_read', 'as_TUZ', 'other'])"
   ]
  },
  {
   "cell_type": "code",
   "execution_count": null,
   "metadata": {},
   "outputs": [],
   "source": [
    "for i in range(len(server)):\n",
    "    con_string = 'postgresql+psycopg2://' + str(user_name) + \":\" + str(password) + \"@\" + str(server[i]) + '.' + str(dns[i]) + \":\" + str(port) + \"/\" + str(db[i]) \n",
    "    try:\n",
    "        con = sqlalchemy.create_engine(str(con_string))\n",
    "        df_iter = pd.DataFrame(con.execute(query_all).fetchall()) # column = col  \n",
    "        df_iter =  df_iter.rename(columns={df_iter.columns[0]: 'users', df_iter.columns[1]: 'roles'})\n",
    "        df_iter = df_iter.astype(str)\n",
    "\n",
    "        df_as_TUZ = df_iter[df_iter['roles'].str.contains('as_TUZ', regex=True, na=True)] \n",
    "        #df_as_admin = df_iter[df_iter['roles'].str.contains('as_admin', regex=True, na=True)]\n",
    "        df_as_admin = pdsql.sqldf(\"select distinct * from df_iter where roles like \\\"%'as_admin'%\\\";\", locals())\n",
    "        df_as_admin_read = df_iter[df_iter['roles'].str.contains('as_admin_read', regex=True, na=True)]\n",
    "        df_other = pdsql.sqldf(\"select distinct * from df_iter where roles NOT like \\\"%as_TUZ%\\\" AND roles NOT like \\\"%as_admin%\\\";\", locals())\n",
    "\n",
    "\n",
    "        if len(df_as_TUZ) > 0:\n",
    "            list_users_as_TUZ = df_as_TUZ['users'].to_list()   \n",
    "            str_users_as_TUZ_0 = str(list_users_as_TUZ)\n",
    "            str_users_as_TUZ_1 = str_users_as_TUZ_0.replace(\"'\", \"\")\n",
    "            str_users_as_TUZ_2 = str_users_as_TUZ_1.replace('[', '')\n",
    "            str_users_as_TUZ_3 = str_users_as_TUZ_2.replace(']', '')\n",
    "        else: str_users_as_TUZ_3 = None\n",
    "\n",
    "        if len(df_as_admin) > 0:\n",
    "            list_users_as_admin = df_as_admin['users'].to_list()   \n",
    "            str_users_as_admin_0 = str(list_users_as_admin)\n",
    "            str_users_as_admin_1 = str_users_as_admin_0.replace(\"'\", \"\")\n",
    "            str_users_as_admin_2 = str_users_as_admin_1.replace('[', '')\n",
    "            str_users_as_admin_3 = str_users_as_admin_2.replace(']', '')\n",
    "        else: str_users_as_admin_3 = None  \n",
    "\n",
    "        if len(df_as_admin_read) > 0:\n",
    "            list_users_as_admin_read = df_as_admin_read['users'].to_list()   \n",
    "            str_users_as_admin_read_0 = str(list_users_as_admin_read)\n",
    "            str_users_as_admin_read_1 = str_users_as_admin_read_0.replace(\"'\", \"\")\n",
    "            str_users_as_admin_read_2 = str_users_as_admin_read_1.replace('[', '')\n",
    "            str_users_as_admin_read_3 = str_users_as_admin_read_2.replace(']', '')\n",
    "        else: str_users_as_admin_read_3 = None        \n",
    "\n",
    "        if len(df_other) > 0:\n",
    "            list_users_other = df_other['users'].to_list()   \n",
    "            str_users_other_0 = str(list_users_other)\n",
    "            str_users_other_1 = str_users_other_0.replace(\"'\", \"\")\n",
    "            str_users_other_2 = str_users_other_1.replace('[', '')\n",
    "            str_users_other_3 = str_users_other_2.replace(']', '')\n",
    "        else: str_users_other_3 = None   \n",
    "\n",
    "        df_all_final = df_all_final.append({'STAND_TYPE':stand_type[i], 'URL':str(server[i]) + '.'+ str(dns[i]),\n",
    "                                            'CI_DB':CI_DB[i], 'db_name':db[i],'as_admin':str_users_as_admin_3,\n",
    "                                            'as_admin_read':str_users_as_admin_read_3,'as_TUZ':str_users_as_TUZ_3,\n",
    "                                            'other':str_users_other_3}, ignore_index=True)\n",
    "    except:\n",
    "        print(i, ' | ', con_string)   \n",
    "        with open('Косячные_строки_подключения.txt', 'a') as f:\n",
    "            f.write(con_string +' \\n')\n",
    "    \n",
    "df_all_final.to_excel('ALL_users_new_pop1.xlsx')     \n",
    "        "
   ]
  },
  {
   "cell_type": "code",
   "execution_count": null,
   "metadata": {},
   "outputs": [],
   "source": []
  },
  {
   "cell_type": "code",
   "execution_count": null,
   "metadata": {},
   "outputs": [],
   "source": [
    "df_as_admin = pdsql.sqldf(\"select distinct * from df_iter where roles like \\\"%'as_admin'%\\\";\", locals())"
   ]
  },
  {
   "cell_type": "code",
   "execution_count": null,
   "metadata": {},
   "outputs": [],
   "source": [
    "df_as_admin"
   ]
  },
  {
   "cell_type": "code",
   "execution_count": null,
   "metadata": {},
   "outputs": [],
   "source": [
    "df_iter"
   ]
  }
 ],
 "metadata": {
  "kernelspec": {
   "display_name": "Python 3",
   "language": "python",
   "name": "python3"
  },
  "language_info": {
   "codemirror_mode": {
    "name": "ipython",
    "version": 3
   },
   "file_extension": ".py",
   "mimetype": "text/x-python",
   "name": "python",
   "nbconvert_exporter": "python",
   "pygments_lexer": "ipython3",
   "version": "3.7.4"
  }
 },
 "nbformat": 4,
 "nbformat_minor": 2
}
