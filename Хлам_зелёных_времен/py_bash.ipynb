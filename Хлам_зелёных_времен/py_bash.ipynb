{
 "cells": [
  {
   "cell_type": "code",
   "execution_count": null,
   "metadata": {},
   "outputs": [],
   "source": [
    "import paramiko \n",
    "\n",
    "import pandas as pd\n",
    "\n",
    "import data"
   ]
  },
  {
   "cell_type": "code",
   "execution_count": null,
   "metadata": {},
   "outputs": [],
   "source": [
    "df_ora = pd.read_excel('runup_oracle.xlsx')"
   ]
  },
  {
   "cell_type": "code",
   "execution_count": null,
   "metadata": {},
   "outputs": [],
   "source": [
    "df_ora"
   ]
  },
  {
   "cell_type": "code",
   "execution_count": null,
   "metadata": {
    "scrolled": true
   },
   "outputs": [],
   "source": [
    "df_ora.head(5)"
   ]
  },
  {
   "cell_type": "code",
   "execution_count": null,
   "metadata": {},
   "outputs": [],
   "source": [
    "stand_type = df_ora['STAND_TYPE']\n",
    "db_name = df_ora['DB_NAME']\n",
    "dns = df_ora['FQDN']\n",
    "ip = df_ora['IP_A']\n",
    "user = 'oracle'\n",
    "path_key = 'C:/Users/19397737/Desktop/БД/dbpdevopsteam_sigma'\n",
    "port = 22\n",
    "\n",
    "bash_string = 'ssh -4 localhost'   # ssh -4 localhost    ls -l\n",
    "\n",
    "df_bash = pd.DataFrame(columns=['STAND_TYPE', 'URL', 'db_name', 'User', 'Text', 'Error_py'])"
   ]
  },
  {
   "cell_type": "code",
   "execution_count": null,
   "metadata": {},
   "outputs": [],
   "source": [
    "%%time \n",
    "for i in range(len(ip)):\n",
    "    try: \n",
    "        e = None\n",
    "        client = paramiko.SSHClient()\n",
    "        client.set_missing_host_key_policy(paramiko.AutoAddPolicy())\n",
    "        client.connect(hostname=ip[i], username=user, key_filename=path_key, port=port)\n",
    "        stdin, stdout, stderr = client.exec_command(bash_string)\n",
    "        data = stdout.read() + stderr.read()\n",
    "        client.close()\n",
    "        df_bash = df_bash.append({'STAND_TYPE':stand_type[i], 'URL':dns[i],\n",
    "                                    'db_name':db_name[i], 'User':user, \n",
    "                                    'Text':str(data),'Error_py': e}, ignore_index=True)\n",
    "        print(i)\n",
    "    except Exception as e:\n",
    "        df_bash = df_bash.append({'STAND_TYPE':stand_type[i], 'URL':dns[i],\n",
    "                                    'db_name':db_name[i], 'User':user, \n",
    "                                    'Text':str(data), 'Error_py': e}, ignore_index=True)\n",
    "        print('text_error:', e)\n",
    "        \n",
    "        \n",
    "df_bash.to_excel('ora_prover_zhel.xlsx')\n"
   ]
  },
  {
   "cell_type": "code",
   "execution_count": null,
   "metadata": {},
   "outputs": [],
   "source": []
  },
  {
   "cell_type": "code",
   "execution_count": null,
   "metadata": {},
   "outputs": [],
   "source": []
  },
  {
   "cell_type": "code",
   "execution_count": null,
   "metadata": {},
   "outputs": [],
   "source": []
  },
  {
   "cell_type": "code",
   "execution_count": null,
   "metadata": {},
   "outputs": [],
   "source": []
  },
  {
   "cell_type": "code",
   "execution_count": null,
   "metadata": {},
   "outputs": [],
   "source": [
    "client = paramiko.SSHClient()\n",
    "client.set_missing_host_key_policy(paramiko.AutoAddPolicy())\n",
    "client.connect(hostname=ip, username=user, key_filename=path_key, port=port)\n",
    "stdin, stdout, stderr = client.exec_command('ssh -4 localhost')\n",
    "data = stdout.read() + stderr.read()\n",
    "client.close()"
   ]
  },
  {
   "cell_type": "code",
   "execution_count": null,
   "metadata": {},
   "outputs": [],
   "source": [
    "data"
   ]
  },
  {
   "cell_type": "code",
   "execution_count": null,
   "metadata": {},
   "outputs": [],
   "source": []
  },
  {
   "cell_type": "code",
   "execution_count": null,
   "metadata": {},
   "outputs": [],
   "source": [
    "ssh = paramiko.SSHClient()\n",
    "\n",
    "ssh.set_missing_host_key_policy(paramiko.AutoAddPolicy())\n",
    "\n",
    "ssh.connect('10.55.72.41', username='oracle', key_filename=path_key)\n",
    "\n",
    "stdin, stdout, stderr = ssh.exec_command('ls -i')\n",
    "#print (stdin.readlines())\n",
    "print (stdout.readlines())\n",
    "print (stderr.readlines())\n",
    "ssh.close()"
   ]
  },
  {
   "cell_type": "code",
   "execution_count": null,
   "metadata": {},
   "outputs": [],
   "source": []
  },
  {
   "cell_type": "code",
   "execution_count": null,
   "metadata": {},
   "outputs": [],
   "source": []
  },
  {
   "cell_type": "code",
   "execution_count": null,
   "metadata": {},
   "outputs": [],
   "source": []
  }
 ],
 "metadata": {
  "kernelspec": {
   "display_name": "Python 3",
   "language": "python",
   "name": "python3"
  },
  "language_info": {
   "codemirror_mode": {
    "name": "ipython",
    "version": 3
   },
   "file_extension": ".py",
   "mimetype": "text/x-python",
   "name": "python",
   "nbconvert_exporter": "python",
   "pygments_lexer": "ipython3",
   "version": "3.7.4"
  }
 },
 "nbformat": 4,
 "nbformat_minor": 2
}
