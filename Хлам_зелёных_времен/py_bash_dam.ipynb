{
 "cells": [
  {
   "cell_type": "code",
   "execution_count": 1,
   "metadata": {},
   "outputs": [],
   "source": [
    "import paramiko \n",
    "\n",
    "import pandas as pd\n",
    "\n",
    "import data"
   ]
  },
  {
   "cell_type": "code",
   "execution_count": 2,
   "metadata": {},
   "outputs": [],
   "source": [
    "df_pg = pd.read_excel('dam.xlsx')"
   ]
  },
  {
   "cell_type": "code",
   "execution_count": null,
   "metadata": {},
   "outputs": [],
   "source": [
    "df_pg"
   ]
  },
  {
   "cell_type": "code",
   "execution_count": 3,
   "metadata": {
    "scrolled": true
   },
   "outputs": [
    {
     "data": {
      "text/html": [
       "<div>\n",
       "<style scoped>\n",
       "    .dataframe tbody tr th:only-of-type {\n",
       "        vertical-align: middle;\n",
       "    }\n",
       "\n",
       "    .dataframe tbody tr th {\n",
       "        vertical-align: top;\n",
       "    }\n",
       "\n",
       "    .dataframe thead th {\n",
       "        text-align: right;\n",
       "    }\n",
       "</style>\n",
       "<table border=\"1\" class=\"dataframe\">\n",
       "  <thead>\n",
       "    <tr style=\"text-align: right;\">\n",
       "      <th></th>\n",
       "      <th>DB</th>\n",
       "      <th>Alias</th>\n",
       "      <th>Version_DB</th>\n",
       "      <th>IP</th>\n",
       "      <th>FQDN</th>\n",
       "    </tr>\n",
       "  </thead>\n",
       "  <tbody>\n",
       "    <tr>\n",
       "      <th>0</th>\n",
       "      <td>adb</td>\n",
       "      <td>LT.EFK.N.ADB</td>\n",
       "      <td>5.2.3</td>\n",
       "      <td>10.106.178.16</td>\n",
       "      <td>tvldd-efs000935.delta.sbrf.ru</td>\n",
       "    </tr>\n",
       "    <tr>\n",
       "      <th>1</th>\n",
       "      <td>adb</td>\n",
       "      <td>LT.EFK.N.ADB</td>\n",
       "      <td>5.2.3</td>\n",
       "      <td>10.106.178.93</td>\n",
       "      <td>tvldd-efs000936.delta.sbrf.ru</td>\n",
       "    </tr>\n",
       "    <tr>\n",
       "      <th>2</th>\n",
       "      <td>adb</td>\n",
       "      <td>LT.EFK.N.ADB</td>\n",
       "      <td>5.2.3</td>\n",
       "      <td>10.55.216.125</td>\n",
       "      <td>tvldd-efs000937.delta.sbrf.ru</td>\n",
       "    </tr>\n",
       "    <tr>\n",
       "      <th>3</th>\n",
       "      <td>amig</td>\n",
       "      <td>LT.CORE.N.AUDIT_MIGRATOR</td>\n",
       "      <td>4.6.3</td>\n",
       "      <td>10.49.230.114</td>\n",
       "      <td>tvldd-efs000598.delta.sbrf.ru</td>\n",
       "    </tr>\n",
       "    <tr>\n",
       "      <th>4</th>\n",
       "      <td>auth</td>\n",
       "      <td>LT.CORE.B1.AUTH</td>\n",
       "      <td>5.2.3</td>\n",
       "      <td>10.10.201.203</td>\n",
       "      <td>tvldd-efs001115.delta.sbrf.ru</td>\n",
       "    </tr>\n",
       "  </tbody>\n",
       "</table>\n",
       "</div>"
      ],
      "text/plain": [
       "     DB                     Alias Version_DB             IP  \\\n",
       "0   adb              LT.EFK.N.ADB      5.2.3  10.106.178.16   \n",
       "1   adb              LT.EFK.N.ADB      5.2.3  10.106.178.93   \n",
       "2   adb              LT.EFK.N.ADB      5.2.3  10.55.216.125   \n",
       "3  amig  LT.CORE.N.AUDIT_MIGRATOR      4.6.3  10.49.230.114   \n",
       "4  auth           LT.CORE.B1.AUTH      5.2.3  10.10.201.203   \n",
       "\n",
       "                            FQDN  \n",
       "0  tvldd-efs000935.delta.sbrf.ru  \n",
       "1  tvldd-efs000936.delta.sbrf.ru  \n",
       "2  tvldd-efs000937.delta.sbrf.ru  \n",
       "3  tvldd-efs000598.delta.sbrf.ru  \n",
       "4  tvldd-efs001115.delta.sbrf.ru  "
      ]
     },
     "execution_count": 3,
     "metadata": {},
     "output_type": "execute_result"
    }
   ],
   "source": [
    "df_pg.head(5)"
   ]
  },
  {
   "cell_type": "code",
   "execution_count": 4,
   "metadata": {},
   "outputs": [],
   "source": [
    "stand_type = df_pg['Alias']\n",
    "db_name = df_pg['DB']\n",
    "dns = df_pg['FQDN']\n",
    "ip = df_pg['IP']\n",
    "version_db = df_pg['Version_DB']\n",
    "user = 'efs_test'\n",
    "path_key = 'C:/Users/19397737/Desktop/БД/dbpdevopsteam_sigma'\n",
    "port = 22\n",
    "\n",
    "bash_string = 'df -h /opt/dbs_agent | awk \\'{print $6\";\"$2}\\' | tail -n +2'   # ssh -4 localhost    ls -l\n",
    "\n",
    "df_bash = pd.DataFrame(columns=['STAND_TYPE', 'URL', 'db_name', 'version_db', 'User', 'Text', 'Error_py'])"
   ]
  },
  {
   "cell_type": "code",
   "execution_count": 5,
   "metadata": {},
   "outputs": [
    {
     "name": "stdout",
     "output_type": "stream",
     "text": [
      "0\n",
      "1\n",
      "2\n",
      "3\n",
      "4\n",
      "5\n",
      "6\n",
      "7\n",
      "8\n",
      "9\n",
      "10\n",
      "11\n",
      "12\n",
      "13\n",
      "14\n",
      "15\n",
      "16\n",
      "17\n",
      "18\n",
      "19\n",
      "20\n",
      "21\n",
      "22\n",
      "23\n",
      "24\n",
      "25\n",
      "26\n",
      "27\n",
      "28\n",
      "29\n",
      "30\n",
      "31\n",
      "32\n",
      "33\n",
      "34\n",
      "text_error: [Errno 11001] getaddrinfo failed\n",
      "36\n",
      "37\n",
      "38\n",
      "39\n",
      "40\n",
      "41\n",
      "42\n",
      "43\n",
      "44\n",
      "45\n",
      "46\n",
      "47\n",
      "48\n",
      "49\n",
      "50\n",
      "51\n",
      "52\n",
      "53\n",
      "54\n",
      "55\n",
      "56\n",
      "57\n",
      "58\n",
      "59\n",
      "60\n",
      "61\n",
      "62\n",
      "63\n",
      "64\n",
      "65\n",
      "66\n",
      "67\n",
      "68\n",
      "69\n",
      "70\n",
      "71\n",
      "72\n",
      "73\n",
      "74\n",
      "75\n",
      "76\n",
      "77\n",
      "78\n",
      "79\n",
      "80\n",
      "81\n",
      "Wall time: 20 s\n"
     ]
    }
   ],
   "source": [
    "%%time \n",
    "for i in range(len(ip)):\n",
    "    try: \n",
    "        e = None\n",
    "        client = paramiko.SSHClient()\n",
    "        client.set_missing_host_key_policy(paramiko.AutoAddPolicy())\n",
    "        client.connect(hostname=ip[i], username=user, key_filename=path_key, port=port)\n",
    "        stdin, stdout, stderr = client.exec_command(bash_string)\n",
    "        data = stdout.read() + stderr.read()\n",
    "        client.close()\n",
    "        df_bash = df_bash.append({'STAND_TYPE':stand_type[i], 'URL':dns[i],\n",
    "                                    'db_name':db_name[i], 'User':user, 'version_db': version_db[i],\n",
    "                                    'Text':str(data),'Error_py': e}, ignore_index=True)\n",
    "        print(i)\n",
    "    except Exception as e:\n",
    "        df_bash = df_bash.append({'STAND_TYPE':stand_type[i], 'URL':dns[i],\n",
    "                                    'db_name':db_name[i], 'User':user, \n",
    "                                    'Text':str(data), 'Error_py': e}, ignore_index=True)\n",
    "        print('text_error:', e)\n",
    "        \n",
    "        \n",
    "df_bash.to_excel('pg_opt_dbs_agent_v2.xlsx')"
   ]
  },
  {
   "cell_type": "code",
   "execution_count": null,
   "metadata": {},
   "outputs": [],
   "source": []
  },
  {
   "cell_type": "code",
   "execution_count": null,
   "metadata": {},
   "outputs": [],
   "source": []
  },
  {
   "cell_type": "code",
   "execution_count": null,
   "metadata": {},
   "outputs": [],
   "source": []
  },
  {
   "cell_type": "code",
   "execution_count": null,
   "metadata": {},
   "outputs": [],
   "source": []
  },
  {
   "cell_type": "code",
   "execution_count": null,
   "metadata": {},
   "outputs": [],
   "source": [
    "client = paramiko.SSHClient()\n",
    "client.set_missing_host_key_policy(paramiko.AutoAddPolicy())\n",
    "client.connect(hostname='10.49.138.155', username=user, key_filename=path_key, port=port)\n",
    "stdin, stdout, stderr = client.exec_command('ssh -4 localhost')\n",
    "data = stdout.read() + stderr.read()\n",
    "client.close()"
   ]
  },
  {
   "cell_type": "code",
   "execution_count": null,
   "metadata": {},
   "outputs": [],
   "source": [
    "data"
   ]
  },
  {
   "cell_type": "code",
   "execution_count": null,
   "metadata": {},
   "outputs": [],
   "source": []
  },
  {
   "cell_type": "code",
   "execution_count": null,
   "metadata": {},
   "outputs": [],
   "source": [
    "ssh = paramiko.SSHClient()\n",
    "\n",
    "ssh.set_missing_host_key_policy(paramiko.AutoAddPolicy())\n",
    "\n",
    "ssh.connect('10.55.72.41', username='oracle', key_filename=path_key)\n",
    "\n",
    "stdin, stdout, stderr = ssh.exec_command('ls -i')\n",
    "#print (stdin.readlines())\n",
    "print (stdout.readlines())\n",
    "print (stderr.readlines())\n",
    "ssh.close()"
   ]
  },
  {
   "cell_type": "code",
   "execution_count": null,
   "metadata": {},
   "outputs": [],
   "source": []
  },
  {
   "cell_type": "code",
   "execution_count": null,
   "metadata": {},
   "outputs": [],
   "source": []
  },
  {
   "cell_type": "code",
   "execution_count": null,
   "metadata": {},
   "outputs": [],
   "source": [
    "ssh = paramiko.SSHClient()\n",
    "\n",
    "ssh.set_missing_host_key_policy(paramiko.AutoAddPolicy())\n",
    "\n",
    "ssh.connect('10.106.178.16', username='efs_test', key_filename=path_key)\n",
    "\n",
    "stdin, stdout, stderr = ssh.exec_command('df -h /opt/dbs_agent | awk \\'{print $6\";\"$2}\\' | tail -n +2')\n",
    "#print (stdin.readlines())\n",
    "print (stdout.readlines())\n",
    "print (stderr.readlines())\n",
    "ssh.close()"
   ]
  },
  {
   "cell_type": "code",
   "execution_count": null,
   "metadata": {},
   "outputs": [],
   "source": []
  },
  {
   "cell_type": "code",
   "execution_count": null,
   "metadata": {},
   "outputs": [],
   "source": []
  },
  {
   "cell_type": "code",
   "execution_count": null,
   "metadata": {},
   "outputs": [],
   "source": []
  },
  {
   "cell_type": "code",
   "execution_count": null,
   "metadata": {},
   "outputs": [],
   "source": []
  }
 ],
 "metadata": {
  "kernelspec": {
   "display_name": "Python 3",
   "language": "python",
   "name": "python3"
  },
  "language_info": {
   "codemirror_mode": {
    "name": "ipython",
    "version": 3
   },
   "file_extension": ".py",
   "mimetype": "text/x-python",
   "name": "python",
   "nbconvert_exporter": "python",
   "pygments_lexer": "ipython3",
   "version": "3.7.4"
  }
 },
 "nbformat": 4,
 "nbformat_minor": 2
}
