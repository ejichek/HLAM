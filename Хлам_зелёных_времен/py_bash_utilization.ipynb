{
 "cells": [
  {
   "cell_type": "code",
   "execution_count": null,
   "metadata": {},
   "outputs": [],
   "source": [
    "import paramiko \n",
    "\n",
    "import pandas as pd\n",
    "\n",
    "import data"
   ]
  },
  {
   "cell_type": "code",
   "execution_count": null,
   "metadata": {},
   "outputs": [],
   "source": [
    "df_runup = pd.read_excel('runup_pg_dev.xlsx')"
   ]
  },
  {
   "cell_type": "code",
   "execution_count": null,
   "metadata": {},
   "outputs": [],
   "source": [
    "len(df_runup)"
   ]
  },
  {
   "cell_type": "code",
   "execution_count": null,
   "metadata": {
    "scrolled": true
   },
   "outputs": [],
   "source": [
    "df_runup.head(5)"
   ]
  },
  {
   "cell_type": "code",
   "execution_count": null,
   "metadata": {},
   "outputs": [],
   "source": [
    "stand_type = df_runup['STAND_TYPE']\n",
    "ir_name_short = df_runup['IR_NAME_SHORT']\n",
    "db_name = df_runup['DB_NAME']\n",
    "dns = df_runup['FQDN']\n",
    "ip = df_runup['IP_A']\n",
    "user = 'efs_dev'  # oracle, efs_test (dev), efs_dev\n",
    "path_key = 'C:/Users/19397737/Desktop/БД/dbpdevopsteam_sigma'\n",
    "port = 22\n",
    "\n",
    "bash_string = 'lsblk -no NAME,TYPE,SIZE'   # lsblk -no NAME,SIZE,MOUNTPOINT\n",
    "\n",
    "df_bash = pd.DataFrame(columns=['STAND_TYPE', 'IR_NAME_SHORT', 'URL', 'db_name', 'User', 'Text', 'Error_py'])"
   ]
  },
  {
   "cell_type": "code",
   "execution_count": null,
   "metadata": {},
   "outputs": [],
   "source": [
    "%%time \n",
    "for i in range(len(ip)):\n",
    "    try: \n",
    "        e = None\n",
    "        client = paramiko.SSHClient()\n",
    "        client.set_missing_host_key_policy(paramiko.AutoAddPolicy())\n",
    "        client.connect(hostname=ip[i], username=user, key_filename=path_key, port=port)\n",
    "        stdin, stdout, stderr = client.exec_command(bash_string)\n",
    "        data = stdout.read() + stderr.read()\n",
    "        client.close()\n",
    "        \n",
    "        df_bash = df_bash.append({'STAND_TYPE':stand_type[i], 'IR_NAME_SHORT':ir_name_short[i], 'URL':dns[i],\n",
    "                                    'db_name':db_name[i], 'User':user, \n",
    "                                    'Text':data.decode(\"utf-8\"),'Error_py': e}, ignore_index=True)\n",
    "        print(i)\n",
    "        \n",
    "    except Exception as e:\n",
    "        df_bash = df_bash.append({'STAND_TYPE':stand_type[i], 'IR_NAME_SHORT':ir_name_short[i], 'URL':dns[i],\n",
    "                                    'db_name':db_name[i], 'User':user, \n",
    "                                    'Text': 'Nan', 'Error_py': e}, ignore_index=True)\n",
    "        print('text_error:', e)\n",
    "        \n",
    "        \n",
    "df_bash.to_excel('lsblk_pg_dev.xlsx')"
   ]
  },
  {
   "cell_type": "code",
   "execution_count": null,
   "metadata": {},
   "outputs": [],
   "source": []
  },
  {
   "cell_type": "code",
   "execution_count": null,
   "metadata": {},
   "outputs": [],
   "source": [
    "df_xlsx_lsblk = pd.read_excel('lsblk_pg_dev.xlsx')"
   ]
  },
  {
   "cell_type": "code",
   "execution_count": null,
   "metadata": {},
   "outputs": [],
   "source": [
    "df_xlsx_lsblk.head(5)"
   ]
  },
  {
   "cell_type": "code",
   "execution_count": null,
   "metadata": {},
   "outputs": [],
   "source": [
    "stand_type = df_xlsx_lsblk['STAND_TYPE']\n",
    "ir_name_short = df_xlsx_lsblk['IR_NAME_SHORT']\n",
    "url = df_xlsx_lsblk['URL']\n",
    "db_name = df_xlsx_lsblk['db_name']\n",
    "user = df_xlsx_lsblk['User']\n",
    "text = df_xlsx_lsblk['Text']\n",
    "\n",
    "\n",
    "df_output_filter = pd.DataFrame(columns=['STAND_TYPE', 'IR_NAME_SHORT','URL', 'db_name', 'User', 'name_empty_disk', 'size_empty_disk'])"
   ]
  },
  {
   "cell_type": "code",
   "execution_count": null,
   "metadata": {},
   "outputs": [],
   "source": [
    "for i in range(len(text)):\n",
    "    split_value_text = text[i].split('\\n')\n",
    "    for i1 in range(len(split_value_text)):\n",
    "        if 'disk' in split_value_text[i1]:\n",
    "            if ('├' in split_value_text[i1+1]) or ('└' in split_value_text[i1+1]):\n",
    "                continue\n",
    "            else: \n",
    "                print(str(i) + ' ' + str(split_value_text[i1]) + ' ' + str(url[i]))\n",
    "                split_value_probel = split_value_text[i1].split(' ')\n",
    "                filter_value = list(filter(lambda x: x != '', split_value_probel))\n",
    "                df_output_filter = df_output_filter.append({'STAND_TYPE':stand_type[i], 'IR_NAME_SHORT':ir_name_short[i],\n",
    "                                                            'URL':url[i],'db_name':db_name[i],'User':user[i],\n",
    "                                                            'name_empty_disk':filter_value[0],'size_empty_disk':filter_value[2]}\n",
    "                                                            ,ignore_index=True)               \n",
    "df_output_filter.to_excel('pg_ift.xlsx')                "
   ]
  },
  {
   "cell_type": "code",
   "execution_count": null,
   "metadata": {},
   "outputs": [],
   "source": []
  },
  {
   "cell_type": "code",
   "execution_count": null,
   "metadata": {},
   "outputs": [],
   "source": []
  },
  {
   "cell_type": "code",
   "execution_count": null,
   "metadata": {},
   "outputs": [],
   "source": []
  },
  {
   "cell_type": "code",
   "execution_count": null,
   "metadata": {},
   "outputs": [],
   "source": []
  },
  {
   "cell_type": "code",
   "execution_count": null,
   "metadata": {},
   "outputs": [],
   "source": []
  },
  {
   "cell_type": "code",
   "execution_count": null,
   "metadata": {},
   "outputs": [],
   "source": []
  },
  {
   "cell_type": "code",
   "execution_count": null,
   "metadata": {},
   "outputs": [],
   "source": []
  },
  {
   "cell_type": "code",
   "execution_count": null,
   "metadata": {},
   "outputs": [],
   "source": [
    "client = paramiko.SSHClient()\n",
    "client.set_missing_host_key_policy(paramiko.AutoAddPolicy())\n",
    "client.connect(hostname=ip, username=user, key_filename=path_key, port=port)\n",
    "stdin, stdout, stderr = client.exec_command('ssh -4 localhost')\n",
    "data = stdout.read() + stderr.read()\n",
    "client.close()"
   ]
  },
  {
   "cell_type": "code",
   "execution_count": null,
   "metadata": {},
   "outputs": [],
   "source": [
    "data.decode(\"utf-8\")"
   ]
  },
  {
   "cell_type": "code",
   "execution_count": null,
   "metadata": {},
   "outputs": [],
   "source": [
    "ssh = paramiko.SSHClient()\n",
    "\n",
    "ssh.set_missing_host_key_policy(paramiko.AutoAddPolicy())\n",
    "\n",
    "ssh.connect('10.55.72.41', username='oracle', key_filename=path_key)\n",
    "\n",
    "stdin, stdout, stderr = ssh.exec_command('ls -i')\n",
    "#print (stdin.readlines())\n",
    "print (stdout.readlines())\n",
    "print (stderr.readlines())\n",
    "ssh.close()"
   ]
  },
  {
   "cell_type": "code",
   "execution_count": null,
   "metadata": {},
   "outputs": [],
   "source": []
  },
  {
   "cell_type": "code",
   "execution_count": null,
   "metadata": {},
   "outputs": [],
   "source": []
  },
  {
   "cell_type": "code",
   "execution_count": null,
   "metadata": {},
   "outputs": [],
   "source": []
  }
 ],
 "metadata": {
  "kernelspec": {
   "display_name": "Python 3",
   "language": "python",
   "name": "python3"
  },
  "language_info": {
   "codemirror_mode": {
    "name": "ipython",
    "version": 3
   },
   "file_extension": ".py",
   "mimetype": "text/x-python",
   "name": "python",
   "nbconvert_exporter": "python",
   "pygments_lexer": "ipython3",
   "version": "3.7.4"
  }
 },
 "nbformat": 4,
 "nbformat_minor": 2
}
