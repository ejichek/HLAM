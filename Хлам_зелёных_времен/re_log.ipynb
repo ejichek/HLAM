{
 "cells": [
  {
   "cell_type": "code",
   "execution_count": 1,
   "metadata": {},
   "outputs": [],
   "source": [
    "import re"
   ]
  },
  {
   "cell_type": "code",
   "execution_count": 8,
   "metadata": {},
   "outputs": [],
   "source": [
    "text=\"\"\"2023-04-07T10:30:49.014457+03:00\n",
    "Errors in file /diag/diag/rdbms/ufeuko_stby/UFEUKO/trace/UFEUKO_rfs_29776.trc:\n",
    "ORA-00367: checksum error in log file header\n",
    "ORA-00315: log 5 of thread 0, wrong thread # 1 in header\n",
    "ORA-00312: online log 5 thread 0: '/oradata/UFEUKO/standby_redo05.log'\n",
    "2023-04-07T10:30:49.035069+03:00\n",
    "2023-04-07T10:30:49.014457+03:00\n",
    "Errors in file /diag/diag/rdbms/ufeuko_stby/UFEUKO/trace/UFEUKO_rfs_29776.trc:\n",
    "ORA-00367: checksum error in log file header\n",
    "ORA-00315: log 5 of thread 0, wrong thread # 1 in header\n",
    "ORA-00312: online log 5 thread 0: '/oradata/UFEUKO/standby_redo05.log'\n",
    "2023-04-07T10:30:49.035069+03:00\n",
    "2023-04-07T10:30:49.014457+03:00\n",
    "Errors in file /diag/diag/rdbms/ufeuko_stby/UFEUKO/trace/UFEUKO_rfs_29776.trc:\n",
    "ORA-00367: checksum error in log file header\n",
    "ORA-00315: log 5 of thread 0, wrong thread # 1 in header\n",
    "ORA-00312: online log 5 thread 0: '/oradata/UFEUKO/standby_redo05.log'\n",
    "2023-04-07T10:30:49.035069+03:00\n",
    "2023-04-07T10:30:49.014457+03:00\n",
    "Errors in file /diag/diag/rdbms/ufeuko_stby/UFEUKO/trace/UFEUKO_rfs_29776.trc:\n",
    "ORA-00367: checksum error in log file header\n",
    "ORA-00315: log 5 of thread 0, wrong thread # 1 in header\n",
    "ORA-00312: online log 5 thread 0: '/oradata/UFEUKO/standby_redo05.log'\n",
    "2023-04-07T10:30:49.035069+03:00\n",
    "2023-04-07T10:30:49.014457+03:00\n",
    "Errors in file /diag/diag/rdbms/ufeuko_stby/UFEUKO/trace/UFEUKO_rfs_29776.trc:\n",
    "ORA-00367: checksum error in log file header\n",
    "ORA-00315: log 5 of thread 0, wrong thread # 1 in header\n",
    "ORA-00312: online log 5 thread 0: '/oradata/UFEUKO/standby_redo05.log'\n",
    "2023-04-07T10:30:49.035069+03:00\n",
    "2023-04-07T10:30:49.014457+03:00\n",
    "Errors in file /diag/diag/rdbms/ufeuko_stby/UFEUKO/trace/UFEUKO_rfs_29776.trc:\n",
    "ORA-00367: checksum error in log file header\n",
    "ORA-00315: log 5 of thread 0, wrong thread # 1 in header\n",
    "ORA-00312: online log 5 thread 0: '/oradata/UFEUKO/standby_redo05.log'\n",
    "2023-04-07T10:30:49.035069+03:00\n",
    "\"\"\""
   ]
  },
  {
   "cell_type": "code",
   "execution_count": 6,
   "metadata": {},
   "outputs": [],
   "source": [
    "text=\"\"\"2023-04-07T10:30:49.014457+03:00\n",
    "Errors in file /diag/diag/rdbms/ufeuko_stby/UFEUKO/trace/UFEUKO_rfs_29776.trc:\n",
    "ORA-00367: checksum error in log file header\n",
    "ORA-00315: log 5 of thread 0, wrong thread # 1 in header\n",
    "ORA-00312: online log 5 thread 0: '/oradata/UFEUKO/standby_redo05.log'\n",
    "2023-04-07T10:30:49.035069+03:00\n",
    "\"\"\""
   ]
  },
  {
   "cell_type": "code",
   "execution_count": 9,
   "metadata": {},
   "outputs": [
    {
     "name": "stdout",
     "output_type": "stream",
     "text": [
      "[(\"2023-04-07T10:30:49.014457+03:00\\nErrors in file /diag/diag/rdbms/ufeuko_stby/UFEUKO/trace/UFEUKO_rfs_29776.trc:\\nORA-00367: checksum error in log file header\\nORA-00315: log 5 of thread 0, wrong thread # 1 in header\\nORA-00312: online log 5 thread 0: '/oradata/UFEUKO/standby_redo05.log'\\n2023-04-07T10:30:49.035069+03:00\", '2023-04-07T10:30:49.014457+03:00', \"\\nErrors in file /diag/diag/rdbms/ufeuko_stby/UFEUKO/trace/UFEUKO_rfs_29776.trc:\\nORA-00367: checksum error in log file header\\nORA-00315: log 5 of thread 0, wrong thread # 1 in header\\nORA-00312: online log 5 thread 0: '/oradata/UFEUKO/standby_redo05.log'\\n\", '\\n', '2023-04-07T10:30:49.035069+03:00'), (\"2023-04-07T10:30:49.014457+03:00\\nErrors in file /diag/diag/rdbms/ufeuko_stby/UFEUKO/trace/UFEUKO_rfs_29776.trc:\\nORA-00367: checksum error in log file header\\nORA-00315: log 5 of thread 0, wrong thread # 1 in header\\nORA-00312: online log 5 thread 0: '/oradata/UFEUKO/standby_redo05.log'\\n2023-04-07T10:30:49.035069+03:00\", '2023-04-07T10:30:49.014457+03:00', \"\\nErrors in file /diag/diag/rdbms/ufeuko_stby/UFEUKO/trace/UFEUKO_rfs_29776.trc:\\nORA-00367: checksum error in log file header\\nORA-00315: log 5 of thread 0, wrong thread # 1 in header\\nORA-00312: online log 5 thread 0: '/oradata/UFEUKO/standby_redo05.log'\\n\", '\\n', '2023-04-07T10:30:49.035069+03:00'), (\"2023-04-07T10:30:49.014457+03:00\\nErrors in file /diag/diag/rdbms/ufeuko_stby/UFEUKO/trace/UFEUKO_rfs_29776.trc:\\nORA-00367: checksum error in log file header\\nORA-00315: log 5 of thread 0, wrong thread # 1 in header\\nORA-00312: online log 5 thread 0: '/oradata/UFEUKO/standby_redo05.log'\\n2023-04-07T10:30:49.035069+03:00\", '2023-04-07T10:30:49.014457+03:00', \"\\nErrors in file /diag/diag/rdbms/ufeuko_stby/UFEUKO/trace/UFEUKO_rfs_29776.trc:\\nORA-00367: checksum error in log file header\\nORA-00315: log 5 of thread 0, wrong thread # 1 in header\\nORA-00312: online log 5 thread 0: '/oradata/UFEUKO/standby_redo05.log'\\n\", '\\n', '2023-04-07T10:30:49.035069+03:00'), (\"2023-04-07T10:30:49.014457+03:00\\nErrors in file /diag/diag/rdbms/ufeuko_stby/UFEUKO/trace/UFEUKO_rfs_29776.trc:\\nORA-00367: checksum error in log file header\\nORA-00315: log 5 of thread 0, wrong thread # 1 in header\\nORA-00312: online log 5 thread 0: '/oradata/UFEUKO/standby_redo05.log'\\n2023-04-07T10:30:49.035069+03:00\", '2023-04-07T10:30:49.014457+03:00', \"\\nErrors in file /diag/diag/rdbms/ufeuko_stby/UFEUKO/trace/UFEUKO_rfs_29776.trc:\\nORA-00367: checksum error in log file header\\nORA-00315: log 5 of thread 0, wrong thread # 1 in header\\nORA-00312: online log 5 thread 0: '/oradata/UFEUKO/standby_redo05.log'\\n\", '\\n', '2023-04-07T10:30:49.035069+03:00'), (\"2023-04-07T10:30:49.014457+03:00\\nErrors in file /diag/diag/rdbms/ufeuko_stby/UFEUKO/trace/UFEUKO_rfs_29776.trc:\\nORA-00367: checksum error in log file header\\nORA-00315: log 5 of thread 0, wrong thread # 1 in header\\nORA-00312: online log 5 thread 0: '/oradata/UFEUKO/standby_redo05.log'\\n2023-04-07T10:30:49.035069+03:00\", '2023-04-07T10:30:49.014457+03:00', \"\\nErrors in file /diag/diag/rdbms/ufeuko_stby/UFEUKO/trace/UFEUKO_rfs_29776.trc:\\nORA-00367: checksum error in log file header\\nORA-00315: log 5 of thread 0, wrong thread # 1 in header\\nORA-00312: online log 5 thread 0: '/oradata/UFEUKO/standby_redo05.log'\\n\", '\\n', '2023-04-07T10:30:49.035069+03:00'), (\"2023-04-07T10:30:49.014457+03:00\\nErrors in file /diag/diag/rdbms/ufeuko_stby/UFEUKO/trace/UFEUKO_rfs_29776.trc:\\nORA-00367: checksum error in log file header\\nORA-00315: log 5 of thread 0, wrong thread # 1 in header\\nORA-00312: online log 5 thread 0: '/oradata/UFEUKO/standby_redo05.log'\\n2023-04-07T10:30:49.035069+03:00\", '2023-04-07T10:30:49.014457+03:00', \"\\nErrors in file /diag/diag/rdbms/ufeuko_stby/UFEUKO/trace/UFEUKO_rfs_29776.trc:\\nORA-00367: checksum error in log file header\\nORA-00315: log 5 of thread 0, wrong thread # 1 in header\\nORA-00312: online log 5 thread 0: '/oradata/UFEUKO/standby_redo05.log'\\n\", '\\n', '2023-04-07T10:30:49.035069+03:00')]\n"
     ]
    }
   ],
   "source": [
    "result = re.findall(r'((?P<timestamp1>\\d{4}-\\d{2}-\\d{2}T\\d{2}:\\d{2}:\\d{2}\\.\\d{6}\\+\\d{2}:\\d{2}.*?)(?P<text>(.|\\n)*?)(?P<timestamp2>\\d{4}-\\d{2}-\\d{2}T\\d{2}:\\d{2}:\\d{2}\\.\\d{6}\\+\\d{2}:\\d{2}.*?))', text)\n",
    "print(result)"
   ]
  },
  {
   "cell_type": "code",
   "execution_count": null,
   "metadata": {},
   "outputs": [],
   "source": []
  },
  {
   "cell_type": "code",
   "execution_count": null,
   "metadata": {},
   "outputs": [],
   "source": [
    "# Python\n",
    "\n",
    "((?P<timestamp1>\\d{4}-\\d{2}-\\d{2}T\\d{2}:\\d{2}:\\d{2}\\.\\d{6}\\+\\d{2}:\\d{2}.*?)(?P<text>(.|\\n)*?)(?P<timestamp2>\\d{4}-\\d{2}-\\d{2}T\\d{2}:\\d{2}:\\d{2}\\.\\d{6}\\+\\d{2}:\\d{2}.*?))"
   ]
  },
  {
   "cell_type": "code",
   "execution_count": null,
   "metadata": {},
   "outputs": [],
   "source": [
    "# PCRE2 (PHP >= 7.3)\n",
    "\n",
    "((?<timestamp1>\\d{4}-\\d{2}-\\d{2}T\\d{2}:\\d{2}:\\d{2}\\.\\d{6}\\+\\d{2}:\\d{2}.*?)(?<text>(.|\\n)*?)(?<timestamp2>\\d{4}-\\d{2}-\\d{2}T\\d{2}:\\d{2}:\\d{2}\\.\\d{6}\\+\\d{2}:\\d{2}.*?))"
   ]
  },
  {
   "cell_type": "code",
   "execution_count": null,
   "metadata": {},
   "outputs": [],
   "source": []
  },
  {
   "cell_type": "code",
   "execution_count": null,
   "metadata": {},
   "outputs": [],
   "source": [
    "https://regex101.com/"
   ]
  },
  {
   "cell_type": "code",
   "execution_count": null,
   "metadata": {},
   "outputs": [],
   "source": []
  },
  {
   "cell_type": "code",
   "execution_count": null,
   "metadata": {},
   "outputs": [],
   "source": []
  }
 ],
 "metadata": {
  "kernelspec": {
   "display_name": "Python 3",
   "language": "python",
   "name": "python3"
  },
  "language_info": {
   "codemirror_mode": {
    "name": "ipython",
    "version": 3
   },
   "file_extension": ".py",
   "mimetype": "text/x-python",
   "name": "python",
   "nbconvert_exporter": "python",
   "pygments_lexer": "ipython3",
   "version": "3.7.4"
  }
 },
 "nbformat": 4,
 "nbformat_minor": 2
}
